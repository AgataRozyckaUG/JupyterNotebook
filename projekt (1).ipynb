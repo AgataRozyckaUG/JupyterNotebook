{
 "cells": [
  {
   "cell_type": "markdown",
   "id": "a3d29101",
   "metadata": {},
   "source": [
    "# Easy linguistic analysis\n",
    "\n",
    "Hello and welcome to my project! I would like to show you how to perform a simple lignuistic analysis using python and jupyter notebook! It may seem difficult at first, but it is actually very simple!"
   ]
  },
  {
   "cell_type": "markdown",
   "id": "890d5fc7",
   "metadata": {},
   "source": [
    "## Setting things up"
   ]
  },
  {
   "cell_type": "markdown",
   "id": "858c25aa",
   "metadata": {},
   "source": [
    "The first thing we need to do is pick a text to analyse. What I will do for this particular project is scrape an article about blue whales, but you can use this method for any other text on the internet."
   ]
  },
  {
   "cell_type": "markdown",
   "id": "2a2123ba",
   "metadata": {},
   "source": [
    "> The term *scraping* refers to data extraction from a website."
   ]
  },
  {
   "cell_type": "markdown",
   "id": "57587177",
   "metadata": {},
   "source": [
    "   Next, we need to think about the aspects to focus on. The tool used to scrape data in this project is *BeautifulSoup*, which allows the user to specify what exactly they want to scrape. We may for example scrape links, paragraphs, or elements containing a particular word. For now, let's try to scrape the entire webpage."
   ]
  },
  {
   "cell_type": "markdown",
   "id": "9edd4950",
   "metadata": {},
   "source": [
    "<img src=\"https://www.albawaba.com/sites/default/files/styles/d08_standard/public/2019-12/shutterstock_1218839440.jpg?h=b6717701&itok=Qn8plwpX\">"
   ]
  },
  {
   "cell_type": "code",
   "execution_count": 5,
   "id": "cb052ce1",
   "metadata": {
    "scrolled": true
   },
   "outputs": [
    {
     "name": "stdout",
     "output_type": "stream",
     "text": [
      "200\n"
     ]
    }
   ],
   "source": [
    "import requests\n",
    "page = requests.get(\"https://www.livescience.com/secret-blue-whale-population-discovered.html\") \n",
    "print(page.status_code)\n"
   ]
  },
  {
   "cell_type": "markdown",
   "id": "72fda858",
   "metadata": {},
   "source": [
    "It is important to check the status code. If the output is *200* as in the above example, it means that the website is accesible."
   ]
  },
  {
   "cell_type": "code",
   "execution_count": 6,
   "id": "ccbd5c19",
   "metadata": {},
   "outputs": [],
   "source": [
    "from bs4 import BeautifulSoup\n",
    "soup = BeautifulSoup(page.content, 'html.parser')"
   ]
  },
  {
   "cell_type": "code",
   "execution_count": 7,
   "id": "3dca571d",
   "metadata": {},
   "outputs": [],
   "source": [
    "paragraphs = soup.find_all('p')\n",
    "links = soup.find_all('a')"
   ]
  },
  {
   "cell_type": "markdown",
   "id": "1d4286e3",
   "metadata": {},
   "source": [
    "By specifying _p_, we will obtain the paragraphs present in the webpage. On the other hand, _a_ will search for links."
   ]
  },
  {
   "cell_type": "markdown",
   "id": "dec33687",
   "metadata": {},
   "source": [
    "## Tokenization"
   ]
  },
  {
   "cell_type": "markdown",
   "id": "a68e991d",
   "metadata": {},
   "source": [
    "Now, lets try to create word tokens using the nltk module. "
   ]
  },
  {
   "cell_type": "code",
   "execution_count": 32,
   "id": "cf121b5e",
   "metadata": {
    "scrolled": true
   },
   "outputs": [
    {
     "name": "stdout",
     "output_type": "stream",
     "text": [
      "['Nuclear', 'bomb', 'detectors', 'uncover', 'secret', 'population', 'of', 'blue', 'whales', 'hiding', 'in', 'Indian', 'Ocean', '|', 'Live', 'Science', 'Skip', 'to', 'main', 'content', 'Live', 'Science', 'Search', 'Subscribe', 'RSS', 'Please', 'deactivate', 'your', 'ad', 'blocker', 'in', 'order', 'to', 'see', 'our', 'subscription', 'offer', 'News', 'Space', '&', 'Physics', 'Health', 'Planet', 'Earth', 'Strange', 'News', 'Animals', 'History', 'Forums', 'Tech']\n"
     ]
    }
   ],
   "source": [
    "import nltk\n",
    "tokens = nltk.tokenize.word_tokenize(soup.get_text())\n",
    "print(tokens[:50])"
   ]
  },
  {
   "cell_type": "markdown",
   "id": "90802a2e",
   "metadata": {},
   "source": [
    "If you print the text, you will notice that the tokens are cluttered with more than words. We have numbers, special characters and punctuation mixed in as well! These are ***not*** welcome among word tokens, so we need to filter them out."
   ]
  },
  {
   "cell_type": "code",
   "execution_count": 9,
   "id": "11fa3f59",
   "metadata": {},
   "outputs": [],
   "source": [
    "wordtokens = []\n",
    "for token in tokens:\n",
    "    if token.isalpha():\n",
    "        wordtokens.append(token)"
   ]
  },
  {
   "cell_type": "markdown",
   "id": "d68a919e",
   "metadata": {},
   "source": [
    "The tokens are now cleaned up! We can also now check how many unique words appear in the text."
   ]
  },
  {
   "cell_type": "code",
   "execution_count": 10,
   "id": "e43542d7",
   "metadata": {
    "scrolled": true
   },
   "outputs": [
    {
     "data": {
      "text/plain": [
       "517"
      ]
     },
     "execution_count": 10,
     "metadata": {},
     "output_type": "execute_result"
    }
   ],
   "source": [
    "fdist1 = nltk.FreqDist(wordtokens)\n",
    "count = len(fdist1)\n",
    "count"
   ]
  },
  {
   "cell_type": "markdown",
   "id": "020c4513",
   "metadata": {},
   "source": [
    "### Tagging"
   ]
  },
  {
   "cell_type": "markdown",
   "id": "55bf60fd",
   "metadata": {},
   "source": [
    "Now it is time to tag our tokens with parts of speech. For the sake of simplicity, I will use the universal set of tags."
   ]
  },
  {
   "cell_type": "code",
   "execution_count": 33,
   "id": "b41fce15",
   "metadata": {},
   "outputs": [
    {
     "name": "stdout",
     "output_type": "stream",
     "text": [
      "[('Nuclear', 'ADJ'), ('bomb', 'NOUN'), ('detectors', 'NOUN'), ('uncover', 'ADV'), ('secret', 'ADJ'), ('population', 'NOUN'), ('of', 'ADP'), ('blue', 'ADJ'), ('whales', 'NOUN'), ('hiding', 'VERB'), ('in', 'ADP'), ('Indian', 'ADJ'), ('Ocean', 'NOUN'), ('Live', 'NOUN'), ('Science', 'NOUN'), ('Skip', 'NOUN'), ('to', 'PRT'), ('main', 'ADJ'), ('content', 'ADJ'), ('Live', 'NOUN'), ('Science', 'NOUN'), ('Search', 'NOUN'), ('Subscribe', 'NOUN'), ('RSS', 'NOUN'), ('Please', 'NOUN'), ('deactivate', 'VERB'), ('your', 'PRON'), ('ad', 'NOUN'), ('blocker', 'NOUN'), ('in', 'ADP'), ('order', 'NOUN'), ('to', 'PRT'), ('see', 'VERB'), ('our', 'PRON'), ('subscription', 'NOUN'), ('offer', 'NOUN'), ('News', 'NOUN'), ('Space', 'NOUN'), ('Physics', 'NOUN'), ('Health', 'NOUN'), ('Planet', 'NOUN'), ('Earth', 'NOUN'), ('Strange', 'NOUN'), ('News', 'NOUN'), ('Animals', 'NOUN'), ('History', 'NOUN'), ('Forums', 'NOUN'), ('Tech', 'NOUN'), ('Culture', 'NOUN'), ('Reference', 'NOUN')]\n"
     ]
    }
   ],
   "source": [
    "from nltk import pos_tag\n",
    "tags = pos_tag(wordtokens, tagset='universal')\n",
    "print(tags[:50])"
   ]
  },
  {
   "cell_type": "markdown",
   "id": "9c6794b3",
   "metadata": {},
   "source": [
    "We can also sum how many times each part of speech appears among the tokens."
   ]
  },
  {
   "cell_type": "code",
   "execution_count": 27,
   "id": "e8039adb",
   "metadata": {},
   "outputs": [
    {
     "name": "stdout",
     "output_type": "stream",
     "text": [
      "Counter({'NOUN': 423, 'VERB': 175, 'ADJ': 133, 'ADP': 132, 'DET': 123, 'PRON': 44, 'ADV': 43, 'PRT': 29, 'CONJ': 18, 'NUM': 6})\n"
     ]
    }
   ],
   "source": [
    "from collections import Counter\n",
    "\n",
    "counted_tokens = Counter([token for i,token in tags])\n",
    "print(counted_tokens)"
   ]
  },
  {
   "cell_type": "code",
   "execution_count": 31,
   "id": "00ab5ffb",
   "metadata": {},
   "outputs": [
    {
     "data": {
      "image/png": "[encoded data removed]",
      "text/plain": [
       "<Figure size 432x288 with 1 Axes>"
      ]
     },
     "metadata": {
      "needs_background": "light"
     },
     "output_type": "display_data"
    }
   ],
   "source": [
    "import matplotlib.pyplot as plt\n",
    "\n",
    "plt.bar(range(len(counted_tokens)), list(counted_tokens.values()), color = 'orange')\n",
    "plt.xticks(range(len(counted_tokens)), list(counted_tokens.keys()))\n",
    "plt.show()"
   ]
  },
  {
   "cell_type": "markdown",
   "id": "b2e8727c",
   "metadata": {},
   "source": [
    "Let's see what will happen if we remove duplicates from our tokens."
   ]
  },
  {
   "cell_type": "code",
   "execution_count": 28,
   "id": "ee4425ad",
   "metadata": {},
   "outputs": [
    {
     "name": "stdout",
     "output_type": "stream",
     "text": [
      "Counter({'NOUN': 260, 'VERB': 100, 'ADJ': 73, 'ADV': 31, 'ADP': 23, 'PRON': 18, 'DET': 16, 'NUM': 5, 'CONJ': 4, 'PRT': 2})\n"
     ]
    }
   ],
   "source": [
    "unique = list(dict.fromkeys(tags))\n",
    "unique_tokens = Counter([token for i,token in unique])\n",
    "print(unique_tokens)"
   ]
  },
  {
   "cell_type": "code",
   "execution_count": 30,
   "id": "4bd1d456",
   "metadata": {},
   "outputs": [
    {
     "data": {
      "image/png": "[encoded data removed]",
      "text/plain": [
       "<Figure size 432x288 with 1 Axes>"
      ]
     },
     "metadata": {
      "needs_background": "light"
     },
     "output_type": "display_data"
    }
   ],
   "source": [
    "import matplotlib.pyplot as plt\n",
    "\n",
    "plt.bar(range(len(unique_tokens)), list(unique_tokens.values()), color = 'cyan')\n",
    "plt.xticks(range(len(unique_tokens)), list(unique_tokens.keys()))\n",
    "plt.show()"
   ]
  },
  {
   "cell_type": "markdown",
   "id": "8cb4e49a",
   "metadata": {},
   "source": [
    "Notice how dramatically the number of determiners and adpositional phrases has dropped down. The rest of the stats however are kept in the same proportion. "
   ]
  }
 ],
 "metadata": {
  "kernelspec": {
   "display_name": "Python 3",
   "language": "python",
   "name": "python3"
  },
  "language_info": {
   "codemirror_mode": {
    "name": "ipython",
    "version": 3
   },
   "file_extension": ".py",
   "mimetype": "text/x-python",
   "name": "python",
   "nbconvert_exporter": "python",
   "pygments_lexer": "ipython3",
   "version": "3.8.8"
  }
 },
 "nbformat": 4,
 "nbformat_minor": 5
}
