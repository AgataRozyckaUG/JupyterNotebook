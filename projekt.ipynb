{
 "cells": [
  {
   "cell_type": "markdown",
   "id": "a3d29101",
   "metadata": {},
   "source": [
    "# Easy linguistic analysis\n",
    "\n",
    "Hello and welcome to my project! I would like to show you how to perform a simple lignuistic analysis using python and jupyter notebook! It may seem difficult at first, but it is actually very simple!"
   ]
  },
  {
   "cell_type": "markdown",
   "id": "890d5fc7",
   "metadata": {},
   "source": [
    "## Setting things up"
   ]
  },
  {
   "cell_type": "markdown",
   "id": "858c25aa",
   "metadata": {},
   "source": [
    "The first thing we need to do is pick a text to analyse. What I will do for this particular project is scrape an article about blue whales, but you can use this method for any other text on the internet."
   ]
  },
  {
   "cell_type": "markdown",
   "id": "2a2123ba",
   "metadata": {},
   "source": [
    "> The term *scraping* refers to data extraction from a website."
   ]
  },
  {
   "cell_type": "markdown",
   "id": "57587177",
   "metadata": {},
   "source": [
    "   Next, we need to think about the aspects to focus on. The tool used to scrape data in this project is *BeautifulSoup*, which allows the user to specify what exactly they want to scrape. We may for example scrape links, paragraphs, or elements containing a particular word. For now, let's try to scrape the entire webpage."
   ]
  },
  {
   "cell_type": "markdown",
   "id": "9edd4950",
   "metadata": {},
   "source": [
    "<img src=\"Pictures/humpback-calf.jpg\">"
   ]
  },
  {
   "cell_type": "code",
   "execution_count": 5,
   "id": "cb052ce1",
   "metadata": {
    "scrolled": true
   },
   "outputs": [
    {
     "name": "stdout",
     "output_type": "stream",
     "text": [
      "200\n"
     ]
    }
   ],
   "source": [
    "import requests\n",
    "page = requests.get(\"https://www.livescience.com/secret-blue-whale-population-discovered.html\") \n",
    "print(page.status_code)\n"
   ]
  },
  {
   "cell_type": "markdown",
   "id": "72fda858",
   "metadata": {},
   "source": [
    "It is important to check the status code. If the output is *200* as in the above example, it means that the website is accesible."
   ]
  },
  {
   "cell_type": "code",
   "execution_count": 6,
   "id": "ccbd5c19",
   "metadata": {},
   "outputs": [],
   "source": [
    "from bs4 import BeautifulSoup\n",
    "soup = BeautifulSoup(page.content, 'html.parser')"
   ]
  },
  {
   "cell_type": "code",
   "execution_count": 7,
   "id": "3dca571d",
   "metadata": {},
   "outputs": [],
   "source": [
    "paragraphs = soup.find_all('p')\n",
    "links = soup.find_all('a')"
   ]
  },
  {
   "cell_type": "markdown",
   "id": "1d4286e3",
   "metadata": {},
   "source": [
    "By specifying _p_, we will obtain the paragraphs present in the webpage. On the other hand, _a_ will search for links."
   ]
  },
  {
   "cell_type": "markdown",
   "id": "dec33687",
   "metadata": {},
   "source": [
    "## Tokenization"
   ]
  },
  {
   "cell_type": "markdown",
   "id": "a68e991d",
   "metadata": {},
   "source": [
    "Now, lets try to create word tokens using the nltk module. "
   ]
  },
  {
   "cell_type": "code",
   "execution_count": 8,
   "id": "cf121b5e",
   "metadata": {
    "scrolled": true
   },
   "outputs": [
    {
     "name": "stdout",
     "output_type": "stream",
     "text": [
      "['Nuclear', 'bomb', 'detectors', 'uncover', 'secret', 'population', 'of', 'blue', 'whales', 'hiding', 'in', 'Indian', 'Ocean', '|', 'Live', 'Science', 'Skip', 'to', 'main', 'content', 'Live', 'Science', 'Search', 'Subscribe', 'RSS', 'Please', 'deactivate', 'your', 'ad', 'blocker', 'in', 'order', 'to', 'see', 'our', 'subscription', 'offer', 'News', 'Space', '&', 'Physics', 'Health', 'Planet', 'Earth', 'Strange', 'News', 'Animals', 'History', 'Forums', 'Tech', 'Culture', 'Reference', 'About', 'Us', 'Magazine', 'subscriptions', 'More', 'TrendingCoronavirus', 'NewsForumLife', \"'s\", 'Little', 'MysteriesMagazine', 'DealsLive', 'Science', 'newsletters', 'Live', 'Science', 'is', 'supported', 'by', 'its', 'audience', '.', 'When', 'you', 'purchase', 'through', 'links', 'on', 'our', 'site', ',', 'we', 'may', 'earn', 'an', 'affiliate', 'commission', '.', 'Learn', 'more', 'Home', 'News', 'Nuclear', 'bomb', 'detectors', 'uncover', 'secret', 'population', 'of', 'blue', 'whales', 'hiding', 'in', 'Indian', 'Ocean', 'By', 'Harry', 'Baker', '-', 'Staff', 'Writer', '10', 'June', '2021', 'Scientists', 'found', 'recordings', 'of', 'their', 'unique', 'song', 'dating', 'back', 'almost', '20', 'years', '.', 'A', 'new', 'population', 'of', 'pygmy', 'blue', 'whales', 'has', 'been', 'discovered', 'using', 'nuclear', 'bomb', 'detectors', '.', '(', 'Image', 'credit', ':', 'Shutterstock', ')', 'Scientists', 'have', 'discovered', 'an', 'entirely', 'new', 'population', 'of', 'pygmy', 'blue', 'whales', 'in', 'the', 'Indian', 'Ocean', ',', 'which', 'have', 'managed', 'to', 'evade', 'detection', 'for', 'decades', 'despite', 'their', 'enormous', 'size.Researchers', 'uncovered', 'the', 'secretive', 'cetaceans', 'by', 'analyzing', 'acoustic', 'data', 'collected', 'by', 'an', 'underwater', 'nuclear', 'bomb', 'detection', 'array', ',', 'which', 'revealed', 'a', 'unique', 'song', 'scientists', 'had', 'never', 'heard', 'before.The', 'new', 'population', 'of', 'pygmy', 'blue', 'whales', '(', 'Balaenoptera', 'musculus', 'brevicauda', ')', '—', 'a', 'smaller', 'subspecies', 'of', 'blue', 'whale', 'that', 'reaches', 'a', 'maximum', 'length', 'of', '79', 'feet', '(', '24', 'meters', ')', '—', 'is', 'now', 'called', 'the', 'Chagos', 'population', ',', 'after', 'a', 'group', 'of', 'islands', 'in', 'the', 'Indian', 'Ocean', 'near', 'the', 'group', \"'s\", 'lair.Related', ':', 'Whale', 'album', ':', 'Giants', 'of', 'the', 'deep', \"''\", 'We', 'are', 'still', 'discovering', 'missing', 'populations', 'of', 'the', 'largest', 'animal', 'that', 'has', 'ever', 'lived', ',', \"''\", 'senior', 'author', 'Tracey', 'Rogers', ',', 'a', 'marine', 'ecologist', 'at', 'the', 'University', 'of', 'New', 'South', 'Wales', '(', 'UNSW', ')', 'in', 'Australia', ',', 'told', 'Live', 'Science', '.', '``', 'It', \"'s\", 'a', 'testament', 'to', 'the', 'difficulty', 'of', 'studying', 'life', 'in', 'the', 'ocean', '.', \"''\", 'Bomb', 'detectors', \"''\", 'Blue', 'whales', 'are', 'generally', 'hard', 'to', 'find', ',', \"''\", 'lead', 'author', 'Emmanuelle', 'Leroy', ',', 'a', 'postdoctoral', 'fellow', 'at', 'UNSW', ',', 'told', 'Live', 'Science', '.', '``', 'They', 'were', 'brought', 'to', 'the', 'edge', 'of', 'extinction', 'by', 'industrial', 'whaling', 'and', 'they', 'are', 'recovering', 'very', 'slowly', '.', '``', 'Currently', ',', 'about', '5,000', 'to', '10,000', 'blue', 'whales', 'exist', 'in', 'the', 'Southern', 'Hemisphere', ',', 'compared', 'with', 'the', 'pre-whaling', 'population', 'of', 'about', '350,000', 'there', ',', 'according', 'to', 'the', 'Center', 'for', 'Biological', 'Diversity', '.', 'The', 'few', 'that', 'remain', 'are', 'often', 'solitary', 'and', 'are', 'spread', 'across', 'large', 'geographic', 'areas', ',', 'making', 'them', 'easy', 'to', 'miss', ',', 'Leroy', 'said.Blue', 'whales', 'are', 'hard', 'to', 'find', 'despite', 'their', 'enormous', 'size', '.', '(', 'Image', 'credit', ':', 'Shutterstock', ')', \"''\", 'The', 'best', 'way', 'to', 'study', 'them', 'is', 'through', 'passive', 'acoustic', 'monitoring', ',', \"''\", 'Leroy', 'said', '.', '``', 'But', 'this', 'means', 'that', 'we', 'need', 'to', 'have', 'hydrophones', 'recording', 'in', 'the', 'different', 'parts', 'of', 'the', 'ocean', '.', '``', 'In', 'the', 'Indian', 'Ocean', ',', 'in', 'particular', ',', 'there', 'are', 'limited', 'scientific', 'acoustic', 'arrays', 'set', 'up', '.', 'So', 'the', 'team', 'turned', 'to', 'underwater', 'nuclear', 'bomb', 'detectors', 'belonging', 'to', 'the', 'Comprehensive', 'Nuclear-Test-Ban', 'Treaty', 'Organization', '(', 'CTBTO', ')', '—', 'an', 'international', 'group', 'that', 'uses', 'a', 'global', 'underwater', 'acoustic', 'relay', 'network', 'to', 'detect', 'illegal', 'nuclear', 'bomb', 'tests', 'in', 'the', 'oceans', '.', 'This', 'gave', 'the', 'researchers', 'access', 'to', 'a', 'long-term', 'dataset', 'of', 'noises', 'across', 'the', 'Indian', 'Ocean', '.', '``', 'The', 'CTBTO', 'data', 'is', 'an', 'important', 'international', 'asset', ',', \"''\", 'Rogers', 'said', '.', '``', 'I', 'think', 'it', \"'s\", 'cool', 'that', 'the', 'same', 'system', 'that', 'keeps', 'the', 'world', 'safe', 'from', 'nuclear', 'bombs', 'is', 'available', 'to', 'researchers', 'and', 'allows', 'a', 'host', 'of', 'scientists', ',', 'including', 'us', ',', 'to', 'do', 'marine', 'science', 'that', 'would', 'not', 'be', 'possible', 'without', 'such', 'sophisticated', 'hydroacoustic', 'arrays', '.', '``', 'A', 'distinct', 'song', \"''\", 'This', 'new', 'whale', 'song', 'has', 'been', 'a', 'dominant', 'part', 'of', 'the', 'soundscape', 'in', 'the', 'Central', 'Equatorial', 'Indian', 'Ocean', 'for', 'the', 'past', 'nearly', '18', 'years', '.', '``', 'Tracey', 'RogersAfter', 'analyzing', 'the', 'data', ',', 'the', 'researchers', 'discovered', 'a', 'particular', 'blue', 'whale', 'song', 'that', 'had', 'not', 'previously', 'been', 'heard', 'before', '.', '``', 'Blue', 'whale', 'songs', 'are', 'very', 'simple', 'in', 'the', 'way', 'that', 'they', 'are', 'the', 'repetition', 'of', 'the', 'same', 'pattern', ',', \"''\", 'Leroy', 'said', '.', '``', 'But', 'each', 'blue', 'whale', 'subspecies', 'and', 'population', 'has', 'a', 'different', 'song', 'type', '.', '``', 'In', 'general', ',', 'blue', 'whale', 'songs', 'are', 'long', ',', 'have', 'a', 'low', 'frequency', '—', 'sometimes', 'below', 'what', 'humans', 'are', 'capable', 'of', 'hearing', '(', 'below', '20', 'hertz', ')', '—', 'high', 'intensity', 'and', 'are', 'repeated', 'at', 'regular', 'intervals', '.', 'But', 'different', 'groups', 'of', 'whales', 'have', 'calls', 'that', 'differ', 'in', 'duration', ',', 'structure', 'and', 'the', 'number', 'of', 'distinct', 'sections.The', 'Chagos', 'song', ',', 'belonging', 'to', 'the', 'new', 'pygmy', 'population', ',', 'has', 'three', 'sections', ',', 'the', 'first', 'of', 'which', 'is', 'the', 'most', 'complex', ',', 'followed', 'by', 'two', 'basic', 'parts', '.', '``', 'This', 'new', 'whale', 'song', 'has', 'been', 'a', 'dominant', 'part', 'of', 'the', 'soundscape', 'in', 'the', 'Central', 'Equatorial', 'Indian', 'Ocean', 'for', 'the', 'past', 'nearly', '18', 'years', ',', \"''\", 'Rogers', 'said', '.', 'Because', 'of', 'the', 'song', \"'s\", 'prevalence', ',', 'the', 'researchers', 'are', 'confident', 'that', 'the', 'song', 'belongs', 'to', 'an', 'entirely', 'new', 'population', 'and', 'not', 'just', 'a', 'few', 'lone', 'individuals', '.', 'However', ',', 'the', 'exact', 'size', 'of', 'this', 'new', 'population', 'remains', 'a', 'mystery', '.', '``', 'Unfortunately', ',', 'we', 'have', 'no', 'idea', 'of', 'the', 'pygmy', 'blue', 'whale', 'population', \"'s\", 'size', ',', \"''\", 'Leroy', 'said', '.', '``', 'Acoustic', '[', 'surveys', ']', 'can', 'not', 'give', 'us', 'this', 'information', 'yet', '.', '``', 'Another', 'one', \"''\", 'Finding', 'a', 'new', 'population', 'of', 'pygmy', 'blue', 'whales', 'in', 'the', 'Southern', 'Hemisphere', 'is', 'exciting', ',', \"''\", 'Rogers', 'said', '.', '``', 'It', 'increases', 'the', 'global', 'population', 'that', 'we', 'did', 'not', 'realize', 'was', 'there', 'before', '.', \"''\", 'Visual', 'identification', 'is', 'still', 'needed', 'to', 'definitively', 'confirm', 'the', 'existence', 'of', 'the', 'Chagos', 'population', ',', 'but', 'the', 'researchers', 'are', 'confident', 'that', 'this', 'will', 'only', 'be', 'a', 'matter', 'of', 'time', '.', 'In', 'December', '2020', ',', 'another', 'study', 'using', 'acoustic', 'surveys', ',', 'of', 'which', 'Rogers', 'and', 'Leroy', 'were', 'co-authors', ',', 'uncovered', 'another', 'new', 'population', 'of', 'blue', 'whales', 'near', 'Oman', '.', 'RELATED', 'CONTENT—Deep', 'blue', 'sea', ':', 'Winning', 'underwater', 'photographs—Sea', 'science', ':', '7', 'bizarre', 'facts', 'about', 'the', 'ocean—15', 'of', 'the', 'largest', 'animals', 'of', 'their', 'kind', 'on', 'Earth', \"''\", 'This', 'now', 'takes', 'us', 'to', 'five', 'pygmy', 'blue', 'whale', 'populations', 'in', 'the', 'Indian', 'Ocean', ',', \"''\", 'Rogers', 'said', ',', 'making', 'the', 'area', 'a', 'hotspot', 'for', 'the', 'subspecies', '.', 'These', 'discoveries', '``', 'would', 'not', 'have', 'been', 'possible', \"''\", 'without', 'acoustic', 'surveys', ',', 'Rogers', 'said.The', 'study', 'was', 'published', 'online', 'April', '22', 'in', 'the', 'journal', 'Scientific', 'Reports.Originally', 'published', 'on', 'Live', 'Science', '.', 'Live', 'Science', 'newsletter', 'Stay', 'up', 'to', 'date', 'on', 'the', 'latest', 'science', 'news', 'by', 'signing', 'up', 'for', 'our', 'Essentials', 'newsletter', '.', 'Contact', 'me', 'with', 'news', 'and', 'offers', 'from', 'other', 'Future', 'brands', 'Receive', 'email', 'from', 'us', 'on', 'behalf', 'of', 'our', 'trusted', 'partners', 'or', 'sponsors', 'Thank', 'you', 'for', 'signing', 'up', 'to', 'Live', 'Science', '.', 'You', 'will', 'receive', 'a', 'verification', 'email', 'shortly', '.', 'There', 'was', 'a', 'problem', '.', 'Please', 'refresh', 'the', 'page', 'and', 'try', 'again', '.', 'No', 'spam', ',', 'we', 'promise', '.', 'You', 'can', 'unsubscribe', 'at', 'any', 'time', 'and', 'we', \"'ll\", 'never', 'share', 'your', 'details', 'without', 'your', 'permission', '.', 'Most', 'Read', 'Most', 'Shared', '1', 'These', 'eels', 'can', 'swallow', 'prey', 'on', 'land', ',', 'thanks', 'to', 'extendable', 'jaws', 'in', 'their', 'throats', '2', 'Girl', 'buried', 'with', 'finch', 'in', 'her', 'mouth', 'puzzles', 'archaeologists', '3', \"'Giant\", 'arc', \"'\", 'stretching', '3.3', 'billion', 'light-years', 'across', 'the', 'cosmos', 'should', \"n't\", 'exist', '4', '7,000-year-old', 'letter', 'seal', 'found', 'in', 'Israel', 'hints', 'at', 'ancient', 'long-distance', 'trade', '5', 'Frozen', 'in', 'time', ':', '5', 'prehistoric', 'creatures', 'found', 'trapped', 'in', 'ice', '1', 'Summer', 'School', 'with', 'Live', 'Science', ':', 'Lemon', 'volcanoes', '2', 'These', 'eels', 'can', 'swallow', 'prey', 'on', 'land', ',', 'thanks', 'to', 'extendable', 'jaws', 'in', 'their', 'throats', '3', 'Girl', 'buried', 'with', 'finch', 'in', 'her', 'mouth', 'puzzles', 'archaeologists', '4', \"'Giant\", 'arc', \"'\", 'stretching', '3.3', 'billion', 'light-years', 'across', 'the', 'cosmos', 'should', \"n't\", 'exist', '5', 'Hoover', 'Dam', 'reservoir', 'reaches', 'record-low', 'water', 'levels', 'Live', 'Science', 'is', 'part', 'of', 'Future', 'US', 'Inc', ',', 'an', 'international', 'media', 'group', 'and', 'leading', 'digital', 'publisher', '.', 'Visit', 'our', 'corporate', 'site', '.', 'About', 'Us', 'Terms', 'and', 'conditions', 'Privacy', 'policy', 'Cookies', 'policy', 'Accessibility', 'Statement', 'Topics', 'Advertise', 'with', 'us', 'Web', 'notifications', '©', 'Future', 'US', ',', 'Inc.', '11', 'West', '42nd', 'Street', ',', '15th', 'Floor', ',', 'New', 'York', ',', 'NY', '10036', '.']\n"
     ]
    }
   ],
   "source": [
    "import nltk\n",
    "tokens = nltk.tokenize.word_tokenize(soup.get_text())\n",
    "print(tokens)"
   ]
  },
  {
   "cell_type": "markdown",
   "id": "90802a2e",
   "metadata": {},
   "source": [
    "If you print the text, you will notice that the tokens are cluttered with more than words. We have numbers, special characters and punctuation mixed in as well! These are ***not*** welcome among word tokens, so we need to filter them out."
   ]
  },
  {
   "cell_type": "code",
   "execution_count": 9,
   "id": "11fa3f59",
   "metadata": {},
   "outputs": [],
   "source": [
    "wordtokens = []\n",
    "for token in tokens:\n",
    "    if token.isalpha():\n",
    "        wordtokens.append(token)"
   ]
  },
  {
   "cell_type": "markdown",
   "id": "d68a919e",
   "metadata": {},
   "source": [
    "The tokens are now cleaned up! We can also now check how many unique words appear in the text."
   ]
  },
  {
   "cell_type": "code",
   "execution_count": 10,
   "id": "e43542d7",
   "metadata": {
    "scrolled": true
   },
   "outputs": [
    {
     "data": {
      "text/plain": [
       "517"
      ]
     },
     "execution_count": 10,
     "metadata": {},
     "output_type": "execute_result"
    }
   ],
   "source": [
    "fdist1 = nltk.FreqDist(wordtokens)\n",
    "count = len(fdist1)\n",
    "count"
   ]
  },
  {
   "cell_type": "markdown",
   "id": "020c4513",
   "metadata": {},
   "source": [
    "### Tagging"
   ]
  },
  {
   "cell_type": "markdown",
   "id": "55bf60fd",
   "metadata": {},
   "source": [
    "Now it is time to tag our tokens with parts of speech. For the sake of simplicity, I will use the universal set of tags."
   ]
  },
  {
   "cell_type": "code",
   "execution_count": 24,
   "id": "b41fce15",
   "metadata": {},
   "outputs": [
    {
     "name": "stdout",
     "output_type": "stream",
     "text": [
      "[('Nuclear', 'ADJ'), ('bomb', 'NOUN'), ('detectors', 'NOUN'), ('uncover', 'ADV'), ('secret', 'ADJ'), ('population', 'NOUN'), ('of', 'ADP'), ('blue', 'ADJ'), ('whales', 'NOUN'), ('hiding', 'VERB'), ('in', 'ADP'), ('Indian', 'ADJ'), ('Ocean', 'NOUN'), ('Live', 'NOUN'), ('Science', 'NOUN'), ('Skip', 'NOUN'), ('to', 'PRT'), ('main', 'ADJ'), ('content', 'ADJ'), ('Live', 'NOUN'), ('Science', 'NOUN'), ('Search', 'NOUN'), ('Subscribe', 'NOUN'), ('RSS', 'NOUN'), ('Please', 'NOUN'), ('deactivate', 'VERB'), ('your', 'PRON'), ('ad', 'NOUN'), ('blocker', 'NOUN'), ('in', 'ADP'), ('order', 'NOUN'), ('to', 'PRT'), ('see', 'VERB'), ('our', 'PRON'), ('subscription', 'NOUN'), ('offer', 'NOUN'), ('News', 'NOUN'), ('Space', 'NOUN'), ('Physics', 'NOUN'), ('Health', 'NOUN'), ('Planet', 'NOUN'), ('Earth', 'NOUN'), ('Strange', 'NOUN'), ('News', 'NOUN'), ('Animals', 'NOUN'), ('History', 'NOUN'), ('Forums', 'NOUN'), ('Tech', 'NOUN'), ('Culture', 'NOUN'), ('Reference', 'NOUN'), ('About', 'ADP'), ('Us', 'NOUN'), ('Magazine', 'NOUN'), ('subscriptions', 'NOUN'), ('More', 'ADV'), ('TrendingCoronavirus', 'NOUN'), ('NewsForumLife', 'NOUN'), ('Little', 'NOUN'), ('MysteriesMagazine', 'NOUN'), ('DealsLive', 'NOUN'), ('Science', 'NOUN'), ('newsletters', 'NOUN'), ('Live', 'NOUN'), ('Science', 'NOUN'), ('is', 'VERB'), ('supported', 'VERB'), ('by', 'ADP'), ('its', 'PRON'), ('audience', 'NOUN'), ('When', 'ADV'), ('you', 'PRON'), ('purchase', 'VERB'), ('through', 'ADP'), ('links', 'NOUN'), ('on', 'ADP'), ('our', 'PRON'), ('site', 'NOUN'), ('we', 'PRON'), ('may', 'VERB'), ('earn', 'VERB'), ('an', 'DET'), ('affiliate', 'NOUN'), ('commission', 'NOUN'), ('Learn', 'NOUN'), ('more', 'ADV'), ('Home', 'NOUN'), ('News', 'NOUN'), ('Nuclear', 'NOUN'), ('bomb', 'NOUN'), ('detectors', 'NOUN'), ('uncover', 'ADV'), ('secret', 'ADJ'), ('population', 'NOUN'), ('of', 'ADP'), ('blue', 'ADJ'), ('whales', 'NOUN'), ('hiding', 'VERB'), ('in', 'ADP'), ('Indian', 'ADJ'), ('Ocean', 'NOUN'), ('By', 'ADP'), ('Harry', 'NOUN'), ('Baker', 'NOUN'), ('Staff', 'NOUN'), ('Writer', 'NOUN'), ('June', 'NOUN'), ('Scientists', 'NOUN'), ('found', 'VERB'), ('recordings', 'NOUN'), ('of', 'ADP'), ('their', 'PRON'), ('unique', 'NOUN'), ('song', 'NOUN'), ('dating', 'VERB'), ('back', 'ADV'), ('almost', 'ADV'), ('years', 'NOUN'), ('A', 'VERB'), ('new', 'ADJ'), ('population', 'NOUN'), ('of', 'ADP'), ('pygmy', 'ADJ'), ('blue', 'NOUN'), ('whales', 'NOUN'), ('has', 'VERB'), ('been', 'VERB'), ('discovered', 'VERB'), ('using', 'VERB'), ('nuclear', 'ADJ'), ('bomb', 'NOUN'), ('detectors', 'NOUN'), ('Image', 'NOUN'), ('credit', 'NOUN'), ('Shutterstock', 'NOUN'), ('Scientists', 'NOUN'), ('have', 'VERB'), ('discovered', 'VERB'), ('an', 'DET'), ('entirely', 'ADV'), ('new', 'ADJ'), ('population', 'NOUN'), ('of', 'ADP'), ('pygmy', 'ADJ'), ('blue', 'ADJ'), ('whales', 'NOUN'), ('in', 'ADP'), ('the', 'DET'), ('Indian', 'ADJ'), ('Ocean', 'NOUN'), ('which', 'DET'), ('have', 'VERB'), ('managed', 'VERB'), ('to', 'PRT'), ('evade', 'VERB'), ('detection', 'NOUN'), ('for', 'ADP'), ('decades', 'NOUN'), ('despite', 'ADP'), ('their', 'PRON'), ('enormous', 'ADJ'), ('uncovered', 'VERB'), ('the', 'DET'), ('secretive', 'ADJ'), ('cetaceans', 'NOUN'), ('by', 'ADP'), ('analyzing', 'VERB'), ('acoustic', 'ADJ'), ('data', 'NOUN'), ('collected', 'VERB'), ('by', 'ADP'), ('an', 'DET'), ('underwater', 'ADJ'), ('nuclear', 'ADJ'), ('bomb', 'NOUN'), ('detection', 'NOUN'), ('array', 'NOUN'), ('which', 'DET'), ('revealed', 'VERB'), ('a', 'DET'), ('unique', 'NOUN'), ('song', 'NOUN'), ('scientists', 'NOUN'), ('had', 'VERB'), ('never', 'ADV'), ('heard', 'VERB'), ('new', 'ADJ'), ('population', 'NOUN'), ('of', 'ADP'), ('pygmy', 'ADJ'), ('blue', 'ADJ'), ('whales', 'NOUN'), ('Balaenoptera', 'NOUN'), ('musculus', 'NOUN'), ('brevicauda', 'VERB'), ('a', 'DET'), ('smaller', 'ADJ'), ('subspecies', 'NOUN'), ('of', 'ADP'), ('blue', 'ADJ'), ('whale', 'NOUN'), ('that', 'DET'), ('reaches', 'VERB'), ('a', 'DET'), ('maximum', 'ADJ'), ('length', 'NOUN'), ('of', 'ADP'), ('feet', 'NOUN'), ('meters', 'NOUN'), ('is', 'VERB'), ('now', 'ADV'), ('called', 'VERB'), ('the', 'DET'), ('Chagos', 'NOUN'), ('population', 'NOUN'), ('after', 'ADP'), ('a', 'DET'), ('group', 'NOUN'), ('of', 'ADP'), ('islands', 'NOUN'), ('in', 'ADP'), ('the', 'DET'), ('Indian', 'ADJ'), ('Ocean', 'NOUN'), ('near', 'ADP'), ('the', 'DET'), ('group', 'NOUN'), ('Whale', 'NOUN'), ('album', 'VERB'), ('Giants', 'NOUN'), ('of', 'ADP'), ('the', 'DET'), ('deep', 'ADJ'), ('We', 'PRON'), ('are', 'VERB'), ('still', 'ADV'), ('discovering', 'VERB'), ('missing', 'VERB'), ('populations', 'NOUN'), ('of', 'ADP'), ('the', 'DET'), ('largest', 'ADJ'), ('animal', 'NOUN'), ('that', 'DET'), ('has', 'VERB'), ('ever', 'ADV'), ('lived', 'VERB'), ('senior', 'ADJ'), ('author', 'NOUN'), ('Tracey', 'NOUN'), ('Rogers', 'NOUN'), ('a', 'DET'), ('marine', 'ADJ'), ('ecologist', 'NOUN'), ('at', 'ADP'), ('the', 'DET'), ('University', 'NOUN'), ('of', 'ADP'), ('New', 'NOUN'), ('South', 'NOUN'), ('Wales', 'NOUN'), ('UNSW', 'NOUN'), ('in', 'ADP'), ('Australia', 'NOUN'), ('told', 'VERB'), ('Live', 'NOUN'), ('Science', 'NOUN'), ('It', 'PRON'), ('a', 'DET'), ('testament', 'NOUN'), ('to', 'PRT'), ('the', 'DET'), ('difficulty', 'NOUN'), ('of', 'ADP'), ('studying', 'VERB'), ('life', 'NOUN'), ('in', 'ADP'), ('the', 'DET'), ('ocean', 'NOUN'), ('Bomb', 'NOUN'), ('detectors', 'NOUN'), ('Blue', 'NOUN'), ('whales', 'NOUN'), ('are', 'VERB'), ('generally', 'ADV'), ('hard', 'ADJ'), ('to', 'PRT'), ('find', 'VERB'), ('lead', 'ADJ'), ('author', 'NOUN'), ('Emmanuelle', 'NOUN'), ('Leroy', 'NOUN'), ('a', 'DET'), ('postdoctoral', 'ADJ'), ('fellow', 'NOUN'), ('at', 'ADP'), ('UNSW', 'NOUN'), ('told', 'VERB'), ('Live', 'NOUN'), ('Science', 'NOUN'), ('They', 'PRON'), ('were', 'VERB'), ('brought', 'VERB'), ('to', 'PRT'), ('the', 'DET'), ('edge', 'NOUN'), ('of', 'ADP'), ('extinction', 'NOUN'), ('by', 'ADP'), ('industrial', 'ADJ'), ('whaling', 'NOUN'), ('and', 'CONJ'), ('they', 'PRON'), ('are', 'VERB'), ('recovering', 'VERB'), ('very', 'ADV'), ('slowly', 'ADV'), ('Currently', 'ADV'), ('about', 'ADP'), ('to', 'PRT'), ('blue', 'VERB'), ('whales', 'NOUN'), ('exist', 'VERB'), ('in', 'ADP'), ('the', 'DET'), ('Southern', 'NOUN'), ('Hemisphere', 'NOUN'), ('compared', 'VERB'), ('with', 'ADP'), ('the', 'DET'), ('population', 'NOUN'), ('of', 'ADP'), ('about', 'ADP'), ('there', 'DET'), ('according', 'VERB'), ('to', 'PRT'), ('the', 'DET'), ('Center', 'NOUN'), ('for', 'ADP'), ('Biological', 'NOUN'), ('Diversity', 'NOUN'), ('The', 'DET'), ('few', 'ADJ'), ('that', 'ADP'), ('remain', 'VERB'), ('are', 'VERB'), ('often', 'ADV'), ('solitary', 'ADJ'), ('and', 'CONJ'), ('are', 'VERB'), ('spread', 'VERB'), ('across', 'ADP'), ('large', 'ADJ'), ('geographic', 'ADJ'), ('areas', 'NOUN'), ('making', 'VERB'), ('them', 'PRON'), ('easy', 'ADJ'), ('to', 'PRT'), ('miss', 'VERB'), ('Leroy', 'NOUN'), ('whales', 'NOUN'), ('are', 'VERB'), ('hard', 'ADJ'), ('to', 'PRT'), ('find', 'VERB'), ('despite', 'ADP'), ('their', 'PRON'), ('enormous', 'ADJ'), ('size', 'NOUN'), ('Image', 'NOUN'), ('credit', 'NOUN'), ('Shutterstock', 'NOUN'), ('The', 'DET'), ('best', 'ADJ'), ('way', 'NOUN'), ('to', 'PRT'), ('study', 'VERB'), ('them', 'PRON'), ('is', 'VERB'), ('through', 'ADP'), ('passive', 'ADJ'), ('acoustic', 'ADJ'), ('monitoring', 'NOUN'), ('Leroy', 'NOUN'), ('said', 'VERB'), ('But', 'CONJ'), ('this', 'DET'), ('means', 'VERB'), ('that', 'ADP'), ('we', 'PRON'), ('need', 'VERB'), ('to', 'PRT'), ('have', 'VERB'), ('hydrophones', 'NOUN'), ('recording', 'VERB'), ('in', 'ADP'), ('the', 'DET'), ('different', 'ADJ'), ('parts', 'NOUN'), ('of', 'ADP'), ('the', 'DET'), ('ocean', 'NOUN'), ('In', 'ADP'), ('the', 'DET'), ('Indian', 'ADJ'), ('Ocean', 'NOUN'), ('in', 'ADP'), ('particular', 'ADJ'), ('there', 'DET'), ('are', 'VERB'), ('limited', 'ADJ'), ('scientific', 'ADJ'), ('acoustic', 'ADJ'), ('arrays', 'NOUN'), ('set', 'VERB'), ('up', 'PRT'), ('So', 'ADP'), ('the', 'DET'), ('team', 'NOUN'), ('turned', 'VERB'), ('to', 'PRT'), ('underwater', 'ADJ'), ('nuclear', 'ADJ'), ('bomb', 'NOUN'), ('detectors', 'NOUN'), ('belonging', 'VERB'), ('to', 'PRT'), ('the', 'DET'), ('Comprehensive', 'NOUN'), ('Treaty', 'NOUN'), ('Organization', 'NOUN'), ('CTBTO', 'NOUN'), ('an', 'DET'), ('international', 'ADJ'), ('group', 'NOUN'), ('that', 'DET'), ('uses', 'VERB'), ('a', 'DET'), ('global', 'ADJ'), ('underwater', 'NOUN'), ('acoustic', 'ADJ'), ('relay', 'NOUN'), ('network', 'NOUN'), ('to', 'PRT'), ('detect', 'VERB'), ('illegal', 'ADJ'), ('nuclear', 'ADJ'), ('bomb', 'NOUN'), ('tests', 'NOUN'), ('in', 'ADP'), ('the', 'DET'), ('oceans', 'NOUN'), ('This', 'DET'), ('gave', 'VERB'), ('the', 'DET'), ('researchers', 'NOUN'), ('access', 'NOUN'), ('to', 'PRT'), ('a', 'DET'), ('dataset', 'NOUN'), ('of', 'ADP'), ('noises', 'NOUN'), ('across', 'ADP'), ('the', 'DET'), ('Indian', 'ADJ'), ('Ocean', 'NOUN'), ('The', 'DET'), ('CTBTO', 'NOUN'), ('data', 'NOUN'), ('is', 'VERB'), ('an', 'DET'), ('important', 'ADJ'), ('international', 'ADJ'), ('asset', 'NOUN'), ('Rogers', 'NOUN'), ('said', 'VERB'), ('I', 'PRON'), ('think', 'VERB'), ('it', 'PRON'), ('cool', 'VERB'), ('that', 'ADP'), ('the', 'DET'), ('same', 'ADJ'), ('system', 'NOUN'), ('that', 'DET'), ('keeps', 'VERB'), ('the', 'DET'), ('world', 'NOUN'), ('safe', 'NOUN'), ('from', 'ADP'), ('nuclear', 'ADJ'), ('bombs', 'NOUN'), ('is', 'VERB'), ('available', 'ADJ'), ('to', 'PRT'), ('researchers', 'NOUN'), ('and', 'CONJ'), ('allows', 'VERB'), ('a', 'DET'), ('host', 'NOUN'), ('of', 'ADP'), ('scientists', 'NOUN'), ('including', 'VERB'), ('us', 'PRON'), ('to', 'PRT'), ('do', 'VERB'), ('marine', 'VERB'), ('science', 'NOUN'), ('that', 'DET'), ('would', 'VERB'), ('not', 'ADV'), ('be', 'VERB'), ('possible', 'ADJ'), ('without', 'ADP'), ('such', 'ADJ'), ('sophisticated', 'ADJ'), ('hydroacoustic', 'ADJ'), ('arrays', 'NOUN'), ('A', 'NOUN'), ('distinct', 'NOUN'), ('song', 'NOUN'), ('This', 'DET'), ('new', 'ADJ'), ('whale', 'NOUN'), ('song', 'NOUN'), ('has', 'VERB'), ('been', 'VERB'), ('a', 'DET'), ('dominant', 'ADJ'), ('part', 'NOUN'), ('of', 'ADP'), ('the', 'DET'), ('soundscape', 'NOUN'), ('in', 'ADP'), ('the', 'DET'), ('Central', 'NOUN'), ('Equatorial', 'NOUN'), ('Indian', 'NOUN'), ('Ocean', 'NOUN'), ('for', 'ADP'), ('the', 'DET'), ('past', 'ADJ'), ('nearly', 'ADV'), ('years', 'NOUN'), ('Tracey', 'NOUN'), ('RogersAfter', 'NOUN'), ('analyzing', 'VERB'), ('the', 'DET'), ('data', 'NOUN'), ('the', 'DET'), ('researchers', 'NOUN'), ('discovered', 'VERB'), ('a', 'DET'), ('particular', 'ADJ'), ('blue', 'ADJ'), ('whale', 'NOUN'), ('song', 'NOUN'), ('that', 'DET'), ('had', 'VERB'), ('not', 'ADV'), ('previously', 'ADV'), ('been', 'VERB'), ('heard', 'VERB'), ('before', 'ADP'), ('Blue', 'NOUN'), ('whale', 'ADJ'), ('songs', 'NOUN'), ('are', 'VERB'), ('very', 'ADV'), ('simple', 'ADJ'), ('in', 'ADP'), ('the', 'DET'), ('way', 'NOUN'), ('that', 'ADP'), ('they', 'PRON'), ('are', 'VERB'), ('the', 'DET'), ('repetition', 'NOUN'), ('of', 'ADP'), ('the', 'DET'), ('same', 'ADJ'), ('pattern', 'NOUN'), ('Leroy', 'NOUN'), ('said', 'VERB'), ('But', 'CONJ'), ('each', 'DET'), ('blue', 'ADJ'), ('whale', 'NOUN'), ('subspecies', 'NOUN'), ('and', 'CONJ'), ('population', 'NOUN'), ('has', 'VERB'), ('a', 'DET'), ('different', 'ADJ'), ('song', 'NOUN'), ('type', 'NOUN'), ('In', 'ADP'), ('general', 'ADJ'), ('blue', 'ADJ'), ('whale', 'NOUN'), ('songs', 'NOUN'), ('are', 'VERB'), ('long', 'ADV'), ('have', 'VERB'), ('a', 'DET'), ('low', 'ADJ'), ('frequency', 'NOUN'), ('sometimes', 'ADV'), ('below', 'ADP'), ('what', 'PRON'), ('humans', 'NOUN'), ('are', 'VERB'), ('capable', 'ADJ'), ('of', 'ADP'), ('hearing', 'VERB'), ('below', 'ADP'), ('hertz', 'NOUN'), ('high', 'ADJ'), ('intensity', 'NOUN'), ('and', 'CONJ'), ('are', 'VERB'), ('repeated', 'VERB'), ('at', 'ADP'), ('regular', 'ADJ'), ('intervals', 'NOUN'), ('But', 'CONJ'), ('different', 'ADJ'), ('groups', 'NOUN'), ('of', 'ADP'), ('whales', 'NOUN'), ('have', 'VERB'), ('calls', 'NOUN'), ('that', 'DET'), ('differ', 'VERB'), ('in', 'ADP'), ('duration', 'NOUN'), ('structure', 'NOUN'), ('and', 'CONJ'), ('the', 'DET'), ('number', 'NOUN'), ('of', 'ADP'), ('distinct', 'ADJ'), ('Chagos', 'NOUN'), ('song', 'NOUN'), ('belonging', 'NOUN'), ('to', 'PRT'), ('the', 'DET'), ('new', 'ADJ'), ('pygmy', 'NOUN'), ('population', 'NOUN'), ('has', 'VERB'), ('three', 'NUM'), ('sections', 'NOUN'), ('the', 'DET'), ('first', 'ADJ'), ('of', 'ADP'), ('which', 'DET'), ('is', 'VERB'), ('the', 'DET'), ('most', 'ADV'), ('complex', 'ADJ'), ('followed', 'VERB'), ('by', 'ADP'), ('two', 'NUM'), ('basic', 'ADJ'), ('parts', 'NOUN'), ('This', 'DET'), ('new', 'ADJ'), ('whale', 'NOUN'), ('song', 'NOUN'), ('has', 'VERB'), ('been', 'VERB'), ('a', 'DET'), ('dominant', 'ADJ'), ('part', 'NOUN'), ('of', 'ADP'), ('the', 'DET'), ('soundscape', 'NOUN'), ('in', 'ADP'), ('the', 'DET'), ('Central', 'NOUN'), ('Equatorial', 'NOUN'), ('Indian', 'NOUN'), ('Ocean', 'NOUN'), ('for', 'ADP'), ('the', 'DET'), ('past', 'ADJ'), ('nearly', 'ADV'), ('years', 'NOUN'), ('Rogers', 'NOUN'), ('said', 'VERB'), ('Because', 'ADP'), ('of', 'ADP'), ('the', 'DET'), ('song', 'NOUN'), ('prevalence', 'NOUN'), ('the', 'DET'), ('researchers', 'NOUN'), ('are', 'VERB'), ('confident', 'ADJ'), ('that', 'ADP'), ('the', 'DET'), ('song', 'NOUN'), ('belongs', 'VERB'), ('to', 'PRT'), ('an', 'DET'), ('entirely', 'ADV'), ('new', 'ADJ'), ('population', 'NOUN'), ('and', 'CONJ'), ('not', 'ADV'), ('just', 'ADV'), ('a', 'DET'), ('few', 'ADJ'), ('lone', 'NOUN'), ('individuals', 'NOUN'), ('However', 'ADV'), ('the', 'DET'), ('exact', 'ADJ'), ('size', 'NOUN'), ('of', 'ADP'), ('this', 'DET'), ('new', 'ADJ'), ('population', 'NOUN'), ('remains', 'VERB'), ('a', 'DET'), ('mystery', 'NOUN'), ('Unfortunately', 'ADV'), ('we', 'PRON'), ('have', 'VERB'), ('no', 'DET'), ('idea', 'NOUN'), ('of', 'ADP'), ('the', 'DET'), ('pygmy', 'NOUN'), ('blue', 'ADJ'), ('whale', 'ADJ'), ('population', 'NOUN'), ('size', 'NOUN'), ('Leroy', 'NOUN'), ('said', 'VERB'), ('Acoustic', 'ADJ'), ('surveys', 'NOUN'), ('can', 'VERB'), ('not', 'ADV'), ('give', 'VERB'), ('us', 'PRON'), ('this', 'DET'), ('information', 'NOUN'), ('yet', 'ADV'), ('Another', 'DET'), ('one', 'NUM'), ('Finding', 'VERB'), ('a', 'DET'), ('new', 'ADJ'), ('population', 'NOUN'), ('of', 'ADP'), ('pygmy', 'ADJ'), ('blue', 'ADJ'), ('whales', 'NOUN'), ('in', 'ADP'), ('the', 'DET'), ('Southern', 'NOUN'), ('Hemisphere', 'NOUN'), ('is', 'VERB'), ('exciting', 'VERB'), ('Rogers', 'NOUN'), ('said', 'VERB'), ('It', 'PRON'), ('increases', 'VERB'), ('the', 'DET'), ('global', 'ADJ'), ('population', 'NOUN'), ('that', 'ADP'), ('we', 'PRON'), ('did', 'VERB'), ('not', 'ADV'), ('realize', 'VERB'), ('was', 'VERB'), ('there', 'DET'), ('before', 'ADP'), ('Visual', 'ADJ'), ('identification', 'NOUN'), ('is', 'VERB'), ('still', 'ADV'), ('needed', 'VERB'), ('to', 'PRT'), ('definitively', 'ADV'), ('confirm', 'VERB'), ('the', 'DET'), ('existence', 'NOUN'), ('of', 'ADP'), ('the', 'DET'), ('Chagos', 'NOUN'), ('population', 'NOUN'), ('but', 'CONJ'), ('the', 'DET'), ('researchers', 'NOUN'), ('are', 'VERB'), ('confident', 'ADJ'), ('that', 'ADP'), ('this', 'DET'), ('will', 'VERB'), ('only', 'ADV'), ('be', 'VERB'), ('a', 'DET'), ('matter', 'NOUN'), ('of', 'ADP'), ('time', 'NOUN'), ('In', 'ADP'), ('December', 'NOUN'), ('another', 'DET'), ('study', 'NOUN'), ('using', 'VERB'), ('acoustic', 'ADJ'), ('surveys', 'NOUN'), ('of', 'ADP'), ('which', 'DET'), ('Rogers', 'NOUN'), ('and', 'CONJ'), ('Leroy', 'NOUN'), ('were', 'VERB'), ('uncovered', 'VERB'), ('another', 'DET'), ('new', 'ADJ'), ('population', 'NOUN'), ('of', 'ADP'), ('blue', 'ADJ'), ('whales', 'NOUN'), ('near', 'ADP'), ('Oman', 'NOUN'), ('RELATED', 'NOUN'), ('blue', 'VERB'), ('sea', 'NOUN'), ('Winning', 'NOUN'), ('underwater', 'NOUN'), ('science', 'NOUN'), ('bizarre', 'ADJ'), ('facts', 'NOUN'), ('about', 'ADP'), ('the', 'DET'), ('of', 'ADP'), ('the', 'DET'), ('largest', 'ADJ'), ('animals', 'NOUN'), ('of', 'ADP'), ('their', 'PRON'), ('kind', 'NOUN'), ('on', 'ADP'), ('Earth', 'NOUN'), ('This', 'DET'), ('now', 'ADV'), ('takes', 'VERB'), ('us', 'PRON'), ('to', 'PRT'), ('five', 'NUM'), ('pygmy', 'NOUN'), ('blue', 'ADJ'), ('whale', 'ADJ'), ('populations', 'NOUN'), ('in', 'ADP'), ('the', 'DET'), ('Indian', 'ADJ'), ('Ocean', 'NOUN'), ('Rogers', 'NOUN'), ('said', 'VERB'), ('making', 'VERB'), ('the', 'DET'), ('area', 'NOUN'), ('a', 'DET'), ('hotspot', 'NOUN'), ('for', 'ADP'), ('the', 'DET'), ('subspecies', 'NOUN'), ('These', 'DET'), ('discoveries', 'NOUN'), ('would', 'VERB'), ('not', 'ADV'), ('have', 'VERB'), ('been', 'VERB'), ('possible', 'ADJ'), ('without', 'ADP'), ('acoustic', 'ADJ'), ('surveys', 'NOUN'), ('Rogers', 'NOUN'), ('study', 'NOUN'), ('was', 'VERB'), ('published', 'VERB'), ('online', 'ADJ'), ('April', 'NOUN'), ('in', 'ADP'), ('the', 'DET'), ('journal', 'NOUN'), ('Scientific', 'NOUN'), ('published', 'VERB'), ('on', 'ADP'), ('Live', 'NOUN'), ('Science', 'NOUN'), ('Live', 'NOUN'), ('Science', 'NOUN'), ('newsletter', 'NOUN'), ('Stay', 'NOUN'), ('up', 'ADV'), ('to', 'PRT'), ('date', 'NOUN'), ('on', 'ADP'), ('the', 'DET'), ('latest', 'ADJ'), ('science', 'NOUN'), ('news', 'NOUN'), ('by', 'ADP'), ('signing', 'VERB'), ('up', 'PRT'), ('for', 'ADP'), ('our', 'PRON'), ('Essentials', 'NOUN'), ('newsletter', 'NOUN'), ('Contact', 'NOUN'), ('me', 'PRON'), ('with', 'ADP'), ('news', 'NOUN'), ('and', 'CONJ'), ('offers', 'NOUN'), ('from', 'ADP'), ('other', 'ADJ'), ('Future', 'NOUN'), ('brands', 'NOUN'), ('Receive', 'NOUN'), ('email', 'NOUN'), ('from', 'ADP'), ('us', 'PRON'), ('on', 'ADP'), ('behalf', 'NOUN'), ('of', 'ADP'), ('our', 'PRON'), ('trusted', 'ADJ'), ('partners', 'NOUN'), ('or', 'CONJ'), ('sponsors', 'NOUN'), ('Thank', 'NOUN'), ('you', 'PRON'), ('for', 'ADP'), ('signing', 'VERB'), ('up', 'PRT'), ('to', 'PRT'), ('Live', 'VERB'), ('Science', 'NOUN'), ('You', 'PRON'), ('will', 'VERB'), ('receive', 'VERB'), ('a', 'DET'), ('verification', 'NOUN'), ('email', 'NOUN'), ('shortly', 'ADV'), ('There', 'DET'), ('was', 'VERB'), ('a', 'DET'), ('problem', 'NOUN'), ('Please', 'NOUN'), ('refresh', 'VERB'), ('the', 'DET'), ('page', 'NOUN'), ('and', 'CONJ'), ('try', 'VERB'), ('again', 'ADV'), ('No', 'NOUN'), ('spam', 'NOUN'), ('we', 'PRON'), ('promise', 'VERB'), ('You', 'PRON'), ('can', 'VERB'), ('unsubscribe', 'VERB'), ('at', 'ADP'), ('any', 'DET'), ('time', 'NOUN'), ('and', 'CONJ'), ('we', 'PRON'), ('never', 'ADV'), ('share', 'NOUN'), ('your', 'PRON'), ('details', 'NOUN'), ('without', 'ADP'), ('your', 'PRON'), ('permission', 'NOUN'), ('Most', 'ADJ'), ('Read', 'NOUN'), ('Most', 'ADJ'), ('Shared', 'NOUN'), ('These', 'DET'), ('eels', 'NOUN'), ('can', 'VERB'), ('swallow', 'VERB'), ('prey', 'NOUN'), ('on', 'ADP'), ('land', 'NOUN'), ('thanks', 'NOUN'), ('to', 'PRT'), ('extendable', 'ADJ'), ('jaws', 'NOUN'), ('in', 'ADP'), ('their', 'PRON'), ('throats', 'NOUN'), ('Girl', 'NOUN'), ('buried', 'VERB'), ('with', 'ADP'), ('finch', 'NOUN'), ('in', 'ADP'), ('her', 'PRON'), ('mouth', 'NOUN'), ('puzzles', 'NOUN'), ('archaeologists', 'VERB'), ('arc', 'ADJ'), ('stretching', 'VERB'), ('billion', 'NUM'), ('across', 'ADP'), ('the', 'DET'), ('cosmos', 'NOUN'), ('should', 'VERB'), ('exist', 'VERB'), ('letter', 'NOUN'), ('seal', 'NOUN'), ('found', 'VERB'), ('in', 'ADP'), ('Israel', 'NOUN'), ('hints', 'NOUN'), ('at', 'ADP'), ('ancient', 'ADJ'), ('trade', 'NOUN'), ('Frozen', 'NOUN'), ('in', 'ADP'), ('time', 'NOUN'), ('prehistoric', 'ADJ'), ('creatures', 'NOUN'), ('found', 'VERB'), ('trapped', 'VERB'), ('in', 'ADP'), ('ice', 'NOUN'), ('Summer', 'NOUN'), ('School', 'NOUN'), ('with', 'ADP'), ('Live', 'NOUN'), ('Science', 'NOUN'), ('Lemon', 'NOUN'), ('volcanoes', 'VERB'), ('These', 'DET'), ('eels', 'NOUN'), ('can', 'VERB'), ('swallow', 'VERB'), ('prey', 'NOUN'), ('on', 'ADP'), ('land', 'NOUN'), ('thanks', 'NOUN'), ('to', 'PRT'), ('extendable', 'ADJ'), ('jaws', 'NOUN'), ('in', 'ADP'), ('their', 'PRON'), ('throats', 'NOUN'), ('Girl', 'NOUN'), ('buried', 'VERB'), ('with', 'ADP'), ('finch', 'NOUN'), ('in', 'ADP'), ('her', 'PRON'), ('mouth', 'NOUN'), ('puzzles', 'NOUN'), ('archaeologists', 'VERB'), ('arc', 'ADJ'), ('stretching', 'VERB'), ('billion', 'NUM'), ('across', 'ADP'), ('the', 'DET'), ('cosmos', 'NOUN'), ('should', 'VERB'), ('exist', 'VERB'), ('Hoover', 'NOUN'), ('Dam', 'NOUN'), ('reservoir', 'NOUN'), ('reaches', 'VERB'), ('water', 'NOUN'), ('levels', 'NOUN'), ('Live', 'NOUN'), ('Science', 'NOUN'), ('is', 'VERB'), ('part', 'NOUN'), ('of', 'ADP'), ('Future', 'NOUN'), ('US', 'NOUN'), ('Inc', 'NOUN'), ('an', 'DET'), ('international', 'ADJ'), ('media', 'NOUN'), ('group', 'NOUN'), ('and', 'CONJ'), ('leading', 'VERB'), ('digital', 'ADJ'), ('publisher', 'NOUN'), ('Visit', 'NOUN'), ('our', 'PRON'), ('corporate', 'ADJ'), ('site', 'NOUN'), ('About', 'ADP'), ('Us', 'NOUN'), ('Terms', 'NOUN'), ('and', 'CONJ'), ('conditions', 'NOUN'), ('Privacy', 'NOUN'), ('policy', 'NOUN'), ('Cookies', 'NOUN'), ('policy', 'NOUN'), ('Accessibility', 'NOUN'), ('Statement', 'NOUN'), ('Topics', 'NOUN'), ('Advertise', 'NOUN'), ('with', 'ADP'), ('us', 'PRON'), ('Web', 'NOUN'), ('notifications', 'NOUN'), ('Future', 'NOUN'), ('US', 'NOUN'), ('West', 'NOUN'), ('Street', 'NOUN'), ('Floor', 'NOUN'), ('New', 'NOUN'), ('York', 'NOUN'), ('NY', 'NOUN')]\n"
     ]
    }
   ],
   "source": [
    "from nltk import pos_tag\n",
    "tags = pos_tag(wordtokens, tagset='universal')\n",
    "print(tags)"
   ]
  },
  {
   "cell_type": "markdown",
   "id": "9c6794b3",
   "metadata": {},
   "source": [
    "We can also sum how many times each part of speech appears among the tokens."
   ]
  },
  {
   "cell_type": "code",
   "execution_count": 27,
   "id": "e8039adb",
   "metadata": {},
   "outputs": [
    {
     "name": "stdout",
     "output_type": "stream",
     "text": [
      "Counter({'NOUN': 423, 'VERB': 175, 'ADJ': 133, 'ADP': 132, 'DET': 123, 'PRON': 44, 'ADV': 43, 'PRT': 29, 'CONJ': 18, 'NUM': 6})\n"
     ]
    }
   ],
   "source": [
    "from collections import Counter\n",
    "\n",
    "counted_tokens = Counter([token for i,token in tags])\n",
    "print(counted_tokens)"
   ]
  },
  {
   "cell_type": "code",
   "execution_count": 31,
   "id": "a6f53884",
   "metadata": {},
   "outputs": [
    {
     "data": {
      "image/png": "[encoded data removed]",
      "text/plain": [
       "<Figure size 432x288 with 1 Axes>"
      ]
     },
     "metadata": {
      "needs_background": "light"
     },
     "output_type": "display_data"
    }
   ],
   "source": [
    "import matplotlib.pyplot as plt\n",
    "\n",
    "plt.bar(range(len(counted_tokens)), list(counted_tokens.values()), color = 'orange')\n",
    "plt.xticks(range(len(counted_tokens)), list(counted_tokens.keys()))\n",
    "plt.show()"
   ]
  },
  {
   "cell_type": "markdown",
   "id": "92a582ae",
   "metadata": {},
   "source": [
    "Let's see what will happen if we remove duplicates from our tokens."
   ]
  },
  {
   "cell_type": "code",
   "execution_count": 28,
   "id": "15f3a5a3",
   "metadata": {},
   "outputs": [
    {
     "name": "stdout",
     "output_type": "stream",
     "text": [
      "Counter({'NOUN': 260, 'VERB': 100, 'ADJ': 73, 'ADV': 31, 'ADP': 23, 'PRON': 18, 'DET': 16, 'NUM': 5, 'CONJ': 4, 'PRT': 2})\n"
     ]
    }
   ],
   "source": [
    "unique = list(dict.fromkeys(tags))\n",
    "unique_tokens = Counter([token for i,token in unique])\n",
    "print(unique_tokens)"
   ]
  },
  {
   "cell_type": "code",
   "execution_count": 30,
   "id": "5155c065",
   "metadata": {},
   "outputs": [
    {
     "data": {
      "image/png": "[encoded data removed]",
      "text/plain": [
       "<Figure size 432x288 with 1 Axes>"
      ]
     },
     "metadata": {
      "needs_background": "light"
     },
     "output_type": "display_data"
    }
   ],
   "source": [
    "import matplotlib.pyplot as plt\n",
    "\n",
    "plt.bar(range(len(unique_tokens)), list(unique_tokens.values()), color = 'cyan')\n",
    "plt.xticks(range(len(unique_tokens)), list(unique_tokens.keys()))\n",
    "plt.show()"
   ]
  },
  {
   "cell_type": "markdown",
   "id": "b20a8e0a",
   "metadata": {},
   "source": [
    "Notice how dramatically the number of determiners and adpositional phrases has dropped down. The rest of the stats however are kept in the same proportion. "
   ]
  }
 ],
 "metadata": {
  "kernelspec": {
   "display_name": "Python 3",
   "language": "python",
   "name": "python3"
  },
  "language_info": {
   "codemirror_mode": {
    "name": "ipython",
    "version": 3
   },
   "file_extension": ".py",
   "mimetype": "text/x-python",
   "name": "python",
   "nbconvert_exporter": "python",
   "pygments_lexer": "ipython3",
   "version": "3.8.8"
  }
 },
 "nbformat": 4,
 "nbformat_minor": 5
}
